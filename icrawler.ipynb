{
 "cells": [
  {
   "cell_type": "code",
   "execution_count": 1,
   "id": "b1f2aa9d-9062-4468-b4b3-26825a7ddd4f",
   "metadata": {},
   "outputs": [
    {
     "name": "stdout",
     "output_type": "stream",
     "text": [
      "Collecting icrawler\n",
      "  Downloading icrawler-0.6.10-py3-none-any.whl.metadata (6.2 kB)\n",
      "Requirement already satisfied: beautifulsoup4 in /opt/homebrew/Cellar/jupyterlab/4.4.3_3/libexec/lib/python3.13/site-packages (from icrawler) (4.13.4)\n",
      "Collecting bs4 (from icrawler)\n",
      "  Downloading bs4-0.0.2-py2.py3-none-any.whl.metadata (411 bytes)\n",
      "Collecting lxml (from icrawler)\n",
      "  Downloading lxml-6.0.0-cp313-cp313-macosx_10_13_universal2.whl.metadata (6.6 kB)\n",
      "Requirement already satisfied: pillow in /opt/homebrew/Cellar/jupyterlab/4.4.3_3/libexec/lib/python3.13/site-packages (from icrawler) (11.2.1)\n",
      "Requirement already satisfied: pyyaml in /opt/homebrew/Cellar/jupyterlab/4.4.3_3/libexec/lib/python3.13/site-packages (from icrawler) (6.0.2)\n",
      "Requirement already satisfied: requests in /opt/homebrew/Cellar/jupyterlab/4.4.3_3/libexec/lib/python3.13/site-packages (from icrawler) (2.32.4)\n",
      "Requirement already satisfied: six in /opt/homebrew/Cellar/jupyterlab/4.4.3_3/libexec/lib/python3.13/site-packages (from icrawler) (1.17.0)\n",
      "Requirement already satisfied: soupsieve>1.2 in /opt/homebrew/Cellar/jupyterlab/4.4.3_3/libexec/lib/python3.13/site-packages (from beautifulsoup4->icrawler) (2.7)\n",
      "Requirement already satisfied: typing-extensions>=4.0.0 in /opt/homebrew/Cellar/jupyterlab/4.4.3_3/libexec/lib/python3.13/site-packages (from beautifulsoup4->icrawler) (4.14.0)\n",
      "Requirement already satisfied: charset_normalizer<4,>=2 in /opt/homebrew/Cellar/jupyterlab/4.4.3_3/libexec/lib/python3.13/site-packages (from requests->icrawler) (3.4.2)\n",
      "Requirement already satisfied: idna<4,>=2.5 in /opt/homebrew/Cellar/jupyterlab/4.4.3_3/libexec/lib/python3.13/site-packages (from requests->icrawler) (3.10)\n",
      "Requirement already satisfied: urllib3<3,>=1.21.1 in /opt/homebrew/Cellar/jupyterlab/4.4.3_3/libexec/lib/python3.13/site-packages (from requests->icrawler) (2.5.0)\n",
      "Requirement already satisfied: certifi>=2017.4.17 in /opt/homebrew/opt/certifi/lib/python3.13/site-packages (from requests->icrawler) (2025.6.15)\n",
      "Downloading icrawler-0.6.10-py3-none-any.whl (36 kB)\n",
      "Downloading bs4-0.0.2-py2.py3-none-any.whl (1.2 kB)\n",
      "Downloading lxml-6.0.0-cp313-cp313-macosx_10_13_universal2.whl (8.4 MB)\n",
      "\u001b[2K   \u001b[90m━━━━━━━━━━━━━━━━━━━━━━━━━━━━━━━━━━━━━━━━\u001b[0m \u001b[32m8.4/8.4 MB\u001b[0m \u001b[31m582.0 kB/s\u001b[0m eta \u001b[36m0:00:00\u001b[0ma \u001b[36m0:00:01\u001b[0m\n",
      "\u001b[?25hInstalling collected packages: lxml, bs4, icrawler\n",
      "\u001b[2K   \u001b[90m━━━━━━━━━━━━━━━━━━━━━━━━━━━━━━━━━━━━━━━━\u001b[0m \u001b[32m3/3\u001b[0m [icrawler]2/3\u001b[0m [icrawler]\n",
      "\u001b[1A\u001b[2KSuccessfully installed bs4-0.0.2 icrawler-0.6.10 lxml-6.0.0\n",
      "Note: you may need to restart the kernel to use updated packages.\n"
     ]
    }
   ],
   "source": [
    "pip install icrawler"
   ]
  },
  {
   "cell_type": "code",
   "execution_count": 6,
   "id": "48a1f657-52fc-461a-bb07-6b56b10aab75",
   "metadata": {
    "scrolled": true
   },
   "outputs": [
    {
     "name": "stderr",
     "output_type": "stream",
     "text": [
      "2025-07-13 12:04:55,514 - INFO - icrawler.crawler - start crawling...\n",
      "2025-07-13 12:04:55,516 - INFO - icrawler.crawler - starting 1 feeder threads...\n",
      "2025-07-13 12:04:55,517 - INFO - feeder - thread feeder-001 exit\n",
      "2025-07-13 12:04:55,518 - INFO - icrawler.crawler - starting 1 parser threads...\n",
      "2025-07-13 12:04:55,520 - INFO - icrawler.crawler - starting 1 downloader threads...\n",
      "2025-07-13 12:04:56,901 - INFO - parser - parsing result page https://www.google.com/search?q=Shah+Rukh+Khan&ijn=0&start=0&tbs=&tbm=isch\n",
      "2025-07-13 12:04:56,978 - INFO - downloader - skip downloading file 000001.jpg\n",
      "2025-07-13 12:04:56,978 - INFO - downloader - skip downloading file 000002.jpg\n",
      "2025-07-13 12:04:56,978 - INFO - downloader - skip downloading file 000003.jpg\n",
      "2025-07-13 12:04:56,979 - INFO - downloader - skip downloading file 000004.jpg\n",
      "2025-07-13 12:04:56,979 - INFO - downloader - skip downloading file 000005.jpg\n",
      "2025-07-13 12:04:56,979 - INFO - downloader - skip downloading file 000006.jpg\n",
      "2025-07-13 12:04:56,979 - INFO - downloader - skip downloading file 000007.jpg\n",
      "2025-07-13 12:04:56,980 - INFO - downloader - skip downloading file 000008.jpg\n",
      "2025-07-13 12:04:56,980 - INFO - downloader - skip downloading file 000009.jpg\n",
      "2025-07-13 12:04:56,980 - INFO - downloader - skip downloading file 000010.jpg\n",
      "2025-07-13 12:04:56,980 - INFO - downloader - skip downloading file 000011.jpg\n",
      "2025-07-13 12:04:56,980 - INFO - downloader - skip downloading file 000012.jpg\n",
      "2025-07-13 12:04:56,981 - INFO - downloader - skip downloading file 000013.jpg\n",
      "2025-07-13 12:04:56,981 - INFO - downloader - skip downloading file 000014.jpg\n",
      "2025-07-13 12:04:56,981 - INFO - downloader - skip downloading file 000015.jpg\n",
      "2025-07-13 12:04:57,430 - ERROR - downloader - Response status code 403, file https://assets.entrepreneur.com/content/3x2/2000/1698927484-jpg\n",
      "2025-07-13 12:04:58,362 - INFO - downloader - image #16\thttps://akm-img-a-in.tosshub.com/indiatoday/images/story/202408/shah-rukh-khan-115148835-3x4.jpg\n",
      "2025-07-13 12:04:58,371 - INFO - downloader - skip downloading file 000017.jpg\n",
      "2025-07-13 12:04:58,372 - INFO - downloader - skip downloading file 000018.jpg\n",
      "2025-07-13 12:04:58,373 - INFO - downloader - skip downloading file 000019.jpg\n",
      "2025-07-13 12:04:58,376 - INFO - downloader - skip downloading file 000020.jpg\n"
     ]
    },
    {
     "ename": "KeyboardInterrupt",
     "evalue": "",
     "output_type": "error",
     "traceback": [
      "\u001b[31m---------------------------------------------------------------------------\u001b[39m",
      "\u001b[31mKeyboardInterrupt\u001b[39m                         Traceback (most recent call last)",
      "\u001b[36mCell\u001b[39m\u001b[36m \u001b[39m\u001b[32mIn[6]\u001b[39m\u001b[32m, line 15\u001b[39m\n\u001b[32m     10\u001b[39m folder_name = celeb.replace(\u001b[33m\"\u001b[39m\u001b[33m \u001b[39m\u001b[33m\"\u001b[39m, \u001b[33m\"\u001b[39m\u001b[33m_\u001b[39m\u001b[33m\"\u001b[39m)\n\u001b[32m     11\u001b[39m crawler = GoogleImageCrawler(storage={\n\u001b[32m     12\u001b[39m     \u001b[33m'\u001b[39m\u001b[33mbackend\u001b[39m\u001b[33m'\u001b[39m: \u001b[33m'\u001b[39m\u001b[33mFileSystem\u001b[39m\u001b[33m'\u001b[39m,\n\u001b[32m     13\u001b[39m     \u001b[33m'\u001b[39m\u001b[33mroot_dir\u001b[39m\u001b[33m'\u001b[39m: \u001b[33mf\u001b[39m\u001b[33m'\u001b[39m\u001b[33mceleb_images/\u001b[39m\u001b[38;5;132;01m{\u001b[39;00mfolder_name\u001b[38;5;132;01m}\u001b[39;00m\u001b[33m'\u001b[39m\n\u001b[32m     14\u001b[39m })\n\u001b[32m---> \u001b[39m\u001b[32m15\u001b[39m \u001b[43mcrawler\u001b[49m\u001b[43m.\u001b[49m\u001b[43mcrawl\u001b[49m\u001b[43m(\u001b[49m\u001b[43mkeyword\u001b[49m\u001b[43m=\u001b[49m\u001b[43mceleb\u001b[49m\u001b[43m,\u001b[49m\u001b[43m \u001b[49m\u001b[43mmax_num\u001b[49m\u001b[43m=\u001b[49m\u001b[32;43m20\u001b[39;49m\u001b[43m)\u001b[49m\n",
      "\u001b[36mFile \u001b[39m\u001b[32m/opt/homebrew/Cellar/jupyterlab/4.4.3_3/libexec/lib/python3.13/site-packages/icrawler/builtin/google.py:212\u001b[39m, in \u001b[36mGoogleImageCrawler.crawl\u001b[39m\u001b[34m(self, keyword, filters, offset, max_num, min_size, max_size, language, file_idx_offset, overwrite, max_idle_time)\u001b[39m\n\u001b[32m    203\u001b[39m feeder_kwargs = \u001b[38;5;28mdict\u001b[39m(keyword=keyword, offset=offset, max_num=max_num, language=language, filters=filters)\n\u001b[32m    204\u001b[39m downloader_kwargs = \u001b[38;5;28mdict\u001b[39m(\n\u001b[32m    205\u001b[39m     max_num=max_num,\n\u001b[32m    206\u001b[39m     min_size=min_size,\n\u001b[32m   (...)\u001b[39m\u001b[32m    210\u001b[39m     max_idle_time=max_idle_time,\n\u001b[32m    211\u001b[39m )\n\u001b[32m--> \u001b[39m\u001b[32m212\u001b[39m \u001b[38;5;28;43msuper\u001b[39;49m\u001b[43m(\u001b[49m\u001b[43m)\u001b[49m\u001b[43m.\u001b[49m\u001b[43mcrawl\u001b[49m\u001b[43m(\u001b[49m\u001b[43mfeeder_kwargs\u001b[49m\u001b[43m=\u001b[49m\u001b[43mfeeder_kwargs\u001b[49m\u001b[43m,\u001b[49m\u001b[43m \u001b[49m\u001b[43mdownloader_kwargs\u001b[49m\u001b[43m=\u001b[49m\u001b[43mdownloader_kwargs\u001b[49m\u001b[43m)\u001b[49m\n",
      "\u001b[36mFile \u001b[39m\u001b[32m/opt/homebrew/Cellar/jupyterlab/4.4.3_3/libexec/lib/python3.13/site-packages/icrawler/crawler.py:185\u001b[39m, in \u001b[36mCrawler.crawl\u001b[39m\u001b[34m(self, feeder_kwargs, parser_kwargs, downloader_kwargs)\u001b[39m\n\u001b[32m    183\u001b[39m     \u001b[38;5;28;01mif\u001b[39;00m \u001b[38;5;129;01mnot\u001b[39;00m \u001b[38;5;28mself\u001b[39m.downloader.is_alive():\n\u001b[32m    184\u001b[39m         \u001b[38;5;28;01mbreak\u001b[39;00m\n\u001b[32m--> \u001b[39m\u001b[32m185\u001b[39m     \u001b[43mtime\u001b[49m\u001b[43m.\u001b[49m\u001b[43msleep\u001b[49m\u001b[43m(\u001b[49m\u001b[32;43m1\u001b[39;49m\u001b[43m)\u001b[49m\n\u001b[32m    187\u001b[39m \u001b[38;5;28;01mif\u001b[39;00m \u001b[38;5;129;01mnot\u001b[39;00m \u001b[38;5;28mself\u001b[39m.feeder.in_queue.empty():\n\u001b[32m    188\u001b[39m     \u001b[38;5;28mself\u001b[39m.feeder.clear_buffer()\n",
      "\u001b[31mKeyboardInterrupt\u001b[39m: "
     ]
    },
    {
     "name": "stderr",
     "output_type": "stream",
     "text": [
      "2025-07-13 12:04:59,588 - INFO - downloader - downloaded images reach max num, thread downloader-001 is ready to exit\n",
      "2025-07-13 12:04:59,589 - INFO - downloader - thread downloader-001 exit\n",
      "2025-07-13 12:05:00,388 - INFO - parser - downloaded image reached max num, thread parser-001 is ready to exit\n",
      "2025-07-13 12:05:00,389 - INFO - parser - thread parser-001 exit\n"
     ]
    }
   ],
   "source": [
    "from icrawler.builtin import GoogleImageCrawler\n",
    "\n",
    "# List of celebrity names\n",
    "celebrities = [\n",
    "    'Shah Rukh Khan', 'Deepika Padukone', 'Virat Kohli', 'Alia Bhatt',\n",
    "    'Arijit Singh', 'Amitabh Bachchan', 'Priyanka Chopra', 'M. S. Dhoni'\n",
    "]\n",
    "\n",
    "for celeb in celebrities:\n",
    "    folder_name = celeb.replace(\" \", \"_\")\n",
    "    crawler = GoogleImageCrawler(storage={\n",
    "        'backend': 'FileSystem',\n",
    "        'root_dir': f'celeb_images/{folder_name}'\n",
    "    })\n",
    "    crawler.crawl(keyword=celeb, max_num=20)\n"
   ]
  },
  {
   "cell_type": "code",
   "execution_count": null,
   "id": "1bc0ef5f-7c92-470f-9e3a-b329156a90ef",
   "metadata": {},
   "outputs": [],
   "source": []
  }
 ],
 "metadata": {
  "kernelspec": {
   "display_name": "Python 3 (ipykernel)",
   "language": "python",
   "name": "python3"
  },
  "language_info": {
   "codemirror_mode": {
    "name": "ipython",
    "version": 3
   },
   "file_extension": ".py",
   "mimetype": "text/x-python",
   "name": "python",
   "nbconvert_exporter": "python",
   "pygments_lexer": "ipython3",
   "version": "3.13.5"
  }
 },
 "nbformat": 4,
 "nbformat_minor": 5
}
